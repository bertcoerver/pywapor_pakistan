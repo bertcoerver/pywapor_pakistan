{
 "cells": [
  {
   "cell_type": "code",
   "execution_count": null,
   "metadata": {},
   "outputs": [],
   "source": [
    "!pip install pywapor --quiet"
   ]
  },
  {
   "cell_type": "code",
   "execution_count": 1,
   "metadata": {},
   "outputs": [],
   "source": [
    "from pywapor.collect.accounts import setup"
   ]
  },
  {
   "attachments": {},
   "cell_type": "markdown",
   "metadata": {},
   "source": [
    "#### NASA\n",
    "\n",
    "https://urs.earthdata.nasa.gov\n",
    "\n",
    "> Accept term of use: \"Applications\" > \"Authorized Apps\" > \"Approve More Applications\" \n",
    "> * NASA GESDISC DATA ARCHIVE \n",
    "> * LP DAAC OPeNDAP"
   ]
  },
  {
   "cell_type": "code",
   "execution_count": null,
   "metadata": {},
   "outputs": [],
   "source": [
    "setup(\"NASA\")"
   ]
  },
  {
   "attachments": {},
   "cell_type": "markdown",
   "metadata": {},
   "source": [
    "#### VITO\n",
    "\n",
    "https://www.vito-eodata.be/"
   ]
  },
  {
   "cell_type": "code",
   "execution_count": null,
   "metadata": {},
   "outputs": [],
   "source": [
    "setup(\"VITO\")"
   ]
  },
  {
   "attachments": {},
   "cell_type": "markdown",
   "metadata": {},
   "source": [
    "#### ECMWF\n",
    "\n",
    "https://cds.climate.copernicus.eu \n",
    "\n",
    "> * \"Profile\" > \"API key\"\n",
    "> * Accept conditions when running `setup(\"ECMWF\")` for the first time.\n",
    "\n"
   ]
  },
  {
   "cell_type": "code",
   "execution_count": null,
   "metadata": {},
   "outputs": [],
   "source": [
    "setup(\"ECMWF\")"
   ]
  },
  {
   "attachments": {},
   "cell_type": "markdown",
   "metadata": {},
   "source": [
    "#### VIIRSL1\n",
    "\n",
    "https://ladsweb.modaps.eosdis.nasa.gov \n",
    "\n",
    "> \"Login\" > \"Generate token\""
   ]
  },
  {
   "cell_type": "code",
   "execution_count": null,
   "metadata": {},
   "outputs": [],
   "source": [
    "setup(\"VIIRSL1\")"
   ]
  },
  {
   "attachments": {},
   "cell_type": "markdown",
   "metadata": {},
   "source": [
    "#### EARTHEXPLORER\n",
    "\n",
    "https://earthexplorer.usgs.gov"
   ]
  },
  {
   "cell_type": "code",
   "execution_count": null,
   "metadata": {},
   "outputs": [],
   "source": [
    "setup(\"EARTHEXPLORER\")"
   ]
  },
  {
   "attachments": {},
   "cell_type": "markdown",
   "metadata": {},
   "source": [
    "#### SENTINEL\n",
    "\n",
    "https://scihub.copernicus.eu"
   ]
  },
  {
   "cell_type": "code",
   "execution_count": null,
   "metadata": {},
   "outputs": [],
   "source": [
    "setup(\"SENTINEL\")"
   ]
  }
 ],
 "metadata": {
  "kernelspec": {
   "display_name": "pywapor",
   "language": "python",
   "name": "python3"
  },
  "language_info": {
   "codemirror_mode": {
    "name": "ipython",
    "version": 3
   },
   "file_extension": ".py",
   "mimetype": "text/x-python",
   "name": "python",
   "nbconvert_exporter": "python",
   "pygments_lexer": "ipython3",
   "version": "3.10.6 | packaged by conda-forge | (main, Aug 22 2022, 20:41:22) [Clang 13.0.1 ]"
  },
  "orig_nbformat": 4,
  "vscode": {
   "interpreter": {
    "hash": "30267a9963ef4e891f35edf7c2db672f8b38daceac54cc246d7b09d3d93c63b2"
   }
  }
 },
 "nbformat": 4,
 "nbformat_minor": 2
}
