{
 "cells": [
  {
   "cell_type": "code",
   "execution_count": null,
   "metadata": {},
   "outputs": [],
   "source": [
    "!pip install pywapor --quiet"
   ]
  },
  {
   "attachments": {},
   "cell_type": "markdown",
   "metadata": {},
   "source": [
    "#### Spatial interpolation and enhancers\n",
    "\n",
    "In this notebook we are going to have a look at how `pre_et_look` reprojects different datasets so that they all have the same projection, bounding-box and resolution. We'll also have a look at how different functions that adjust the data can be toggled on or off.\n",
    "\n",
    "We'll start by setting up the usual variables. This time we'll look at a mountainous area west of Larkana, Pakistan. "
   ]
  },
  {
   "cell_type": "code",
   "execution_count": null,
   "metadata": {},
   "outputs": [],
   "source": [
    "import pywapor\n",
    "\n",
    "folder = r\"/Users/hmcoerver/Local/4_spatial_interp_enhancers\"\n",
    "timelim = [\"2021-08-11\", \"2021-08-21\"]\n",
    "lonlim = [66.90, 67.5]\n",
    "latlim = [27.20, 27.60]"
   ]
  },
  {
   "attachments": {},
   "cell_type": "markdown",
   "metadata": {},
   "source": [
    "Like we did before, we can get more detailed information on what \"level_1\" means in pyWaPOR by using the `pre_et_look_levels` function."
   ]
  },
  {
   "cell_type": "code",
   "execution_count": null,
   "metadata": {},
   "outputs": [],
   "source": [
    "lvl1_info = pywapor.general.levels.pre_et_look_levels(\"level_1\")"
   ]
  },
  {
   "attachments": {},
   "cell_type": "markdown",
   "metadata": {},
   "source": [
    "and like we did in the previous exercise, we'll remove some of the keys in the `lvl1_info` dictionary so that we can focus on `\"t_air\"` and \"`z`\"."
   ]
  },
  {
   "cell_type": "code",
   "execution_count": null,
   "metadata": {},
   "outputs": [],
   "source": [
    "selected_sources = {k: v for k, v in lvl1_info.items() if k in [\"t_air\", \"z\"]}"
   ]
  },
  {
   "attachments": {},
   "cell_type": "markdown",
   "metadata": {},
   "source": [
    "`selected_sources` now contains 2 keys, specifying from which sources the respective variables need to be collected and processed."
   ]
  },
  {
   "cell_type": "code",
   "execution_count": null,
   "metadata": {},
   "outputs": [],
   "source": [
    "selected_sources"
   ]
  },
  {
   "attachments": {},
   "cell_type": "markdown",
   "metadata": {},
   "source": [
    "> **Question**\n",
    ">\n",
    "> What are the 3 optional (i.e. keyword) arguments you can pass to pywapor.pre_et_look.main?"
   ]
  },
  {
   "cell_type": "code",
   "execution_count": null,
   "metadata": {},
   "outputs": [],
   "source": [
    "# Check the documentation of pywapor.pre_et_look.main here."
   ]
  },
  {
   "attachments": {},
   "cell_type": "markdown",
   "metadata": {},
   "source": [
    "So far we've run `pywapor.pre_et_look.main` with the default value of `\"level_1\"` for the keyword-argument `sources`. But its actually possible to pass a dictionary directly to this keyword.\n",
    "\n",
    "> **Question**\n",
    ">\n",
    "> * Run `pywapor.pre_et_look.main` with the keyword argument `sources` set to `selected_sources`. "
   ]
  },
  {
   "cell_type": "code",
   "execution_count": null,
   "metadata": {},
   "outputs": [],
   "source": [
    "# Run pywapor.pre_et_look.main here."
   ]
  },
  {
   "attachments": {},
   "cell_type": "markdown",
   "metadata": {},
   "source": [
    "> **Question**\n",
    ">\n",
    "> * What is the shape of the created dataset?\n",
    ">\n",
    "> * Create a plot of the variable `z`.\n",
    ">\n",
    "> * Create a plot of the variable `t_air_24`."
   ]
  },
  {
   "cell_type": "code",
   "execution_count": null,
   "metadata": {},
   "outputs": [],
   "source": [
    "# Inspect the dataset here"
   ]
  },
  {
   "cell_type": "code",
   "execution_count": null,
   "metadata": {},
   "outputs": [],
   "source": [
    "# Create a plot of z here"
   ]
  },
  {
   "cell_type": "code",
   "execution_count": null,
   "metadata": {},
   "outputs": [],
   "source": [
    "# Create a plot of t_air_24 here"
   ]
  },
  {
   "attachments": {},
   "cell_type": "markdown",
   "metadata": {},
   "source": [
    "Lets have a look at the original temperature data to compare it to the plot we made above. The original temperature data is stored in a file called `\"inst3_2d_asm_Nx.nc\"`. We can open it by defining the path to the file in a string and then opening it using `open_ds` (or you can open it in QGIS as well)."
   ]
  },
  {
   "cell_type": "code",
   "execution_count": null,
   "metadata": {},
   "outputs": [],
   "source": [
    "import os\n",
    "geos_path = os.path.join(folder, \"GEOS5\", \"inst3_2d_asm_Nx.nc\")\n",
    "\n",
    "ds_orig = pywapor.general.processing_functions.open_ds(geos_path)"
   ]
  },
  {
   "attachments": {},
   "cell_type": "markdown",
   "metadata": {},
   "source": [
    "> **Question**\n",
    "> \n",
    "> What is the resolution of the data in this file?\n",
    ">\n",
    "> Create a plot of the original air temperature."
   ]
  },
  {
   "cell_type": "code",
   "execution_count": null,
   "metadata": {},
   "outputs": [],
   "source": [
    "# check the resolution here"
   ]
  },
  {
   "cell_type": "code",
   "execution_count": null,
   "metadata": {},
   "outputs": [],
   "source": [
    "# create a plot here."
   ]
  },
  {
   "attachments": {},
   "cell_type": "markdown",
   "metadata": {},
   "source": [
    "> **Question**\n",
    ">\n",
    "> Do you see any differences between the original temperature data and the data created by `pre_et_look`."
   ]
  },
  {
   "attachments": {},
   "cell_type": "markdown",
   "metadata": {},
   "source": [
    "The temperature data is resampled in two ways. (1) First a spatial interpolation is applied to the very coarse data to match the resolution with that of the DEM. Then (2) a lapse-rate correction is applied, based on the assumption that the temperature is colder at higher altitudes.\n",
    "\n",
    "We can turn of the lapse-rate correction by removing it from the list of enhancers, i.e. by overwriting the default value of enhancers.\n",
    "\n",
    "> **Question**\n",
    ">\n",
    "> * Run `pywapor.pre_et_look.main` again, now setting the keyword-argument `enhancers` to an empty list.\n",
    ">\n",
    "> * You can create an empty list like this: `my_empty_list = []`"
   ]
  },
  {
   "cell_type": "code",
   "execution_count": null,
   "metadata": {},
   "outputs": [],
   "source": [
    "# run pre_et_look without any enhancers."
   ]
  },
  {
   "attachments": {},
   "cell_type": "markdown",
   "metadata": {},
   "source": [
    "> **Question**\n",
    ">\n",
    "> Create another plot of `t_air_24`."
   ]
  },
  {
   "cell_type": "code",
   "execution_count": null,
   "metadata": {},
   "outputs": [],
   "source": [
    "# Create another plot here."
   ]
  },
  {
   "attachments": {},
   "cell_type": "markdown",
   "metadata": {},
   "source": [
    "As you can see the lapse-rate correction has disappeared. The data does still look much smoother than the original data however.\n",
    "\n",
    "We can define the spatial interpolation method in the `selected_sources` dictionary. \n",
    "\n",
    "> **Question**\n",
    ">\n",
    "> Do you have any idea which key defines the spatial interpolation method for the air temperature?\n",
    ">\n",
    "> Change the value of that key to `\"nearest\"`.\n",
    ">\n",
    "> Then run `pre_et_look` again."
   ]
  },
  {
   "cell_type": "code",
   "execution_count": null,
   "metadata": {},
   "outputs": [],
   "source": [
    "# Adjust the selected_sources dictionary here"
   ]
  },
  {
   "cell_type": "code",
   "execution_count": null,
   "metadata": {},
   "outputs": [],
   "source": [
    "# Then run pre_et_look"
   ]
  },
  {
   "attachments": {},
   "cell_type": "markdown",
   "metadata": {},
   "source": [
    "> **Question**\n",
    ">\n",
    "> Create another plot of `t_air_24`."
   ]
  },
  {
   "cell_type": "code",
   "execution_count": null,
   "metadata": {},
   "outputs": [],
   "source": [
    "# Create a plot here."
   ]
  },
  {
   "attachments": {},
   "cell_type": "markdown",
   "metadata": {},
   "source": [
    "> **Question**\n",
    ">\n",
    "> * What is the resolution of this dataset?\n",
    "> \n",
    "> * Did `t_air` get reproject to match with the resolution of `z`, or the other way around?\n",
    ">\n",
    "> * Do you see any evidence for that in the log?"
   ]
  },
  {
   "attachments": {},
   "cell_type": "markdown",
   "metadata": {},
   "source": [
    "We select which dataset source is used as the repojecting example by including a key called `is_example` for that source."
   ]
  },
  {
   "cell_type": "code",
   "execution_count": null,
   "metadata": {},
   "outputs": [],
   "source": [
    "selected_sources[\"t_air\"][\"products\"][0][\"is_example\"] = True"
   ]
  },
  {
   "cell_type": "code",
   "execution_count": null,
   "metadata": {},
   "outputs": [],
   "source": [
    "selected_sources"
   ]
  },
  {
   "attachments": {},
   "cell_type": "markdown",
   "metadata": {},
   "source": [
    "> **Question**\n",
    ">\n",
    "> Lets run pre_et_look one more time."
   ]
  },
  {
   "cell_type": "code",
   "execution_count": null,
   "metadata": {},
   "outputs": [],
   "source": [
    "# run pre_et_look"
   ]
  },
  {
   "attachments": {},
   "cell_type": "markdown",
   "metadata": {},
   "source": [
    "> **Question**\n",
    "> \n",
    "> * Do you see any change in the log?\n",
    ">\n",
    "> * What is the resolution of the dataset now?\n",
    ">\n",
    "> * Create a plot of `z`, does it look good?"
   ]
  }
 ],
 "metadata": {
  "kernelspec": {
   "display_name": "pywapor",
   "language": "python",
   "name": "python3"
  },
  "language_info": {
   "codemirror_mode": {
    "name": "ipython",
    "version": 3
   },
   "file_extension": ".py",
   "mimetype": "text/x-python",
   "name": "python",
   "nbconvert_exporter": "python",
   "pygments_lexer": "ipython3",
   "version": "3.10.6 | packaged by conda-forge | (main, Aug 22 2022, 20:41:22) [Clang 13.0.1 ]"
  },
  "orig_nbformat": 4,
  "vscode": {
   "interpreter": {
    "hash": "30267a9963ef4e891f35edf7c2db672f8b38daceac54cc246d7b09d3d93c63b2"
   }
  }
 },
 "nbformat": 4,
 "nbformat_minor": 2
}
