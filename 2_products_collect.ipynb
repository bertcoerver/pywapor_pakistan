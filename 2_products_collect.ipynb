{
 "cells": [
  {
   "cell_type": "code",
   "execution_count": null,
   "metadata": {},
   "outputs": [],
   "source": [
    "!pip install pywapor --quiet"
   ]
  },
  {
   "attachments": {},
   "cell_type": "markdown",
   "metadata": {},
   "source": [
    "#### Configuring data sources\n",
    "\n",
    "In the first exercise we ran the function `pre_et_look` to collect data required by the `et_look` model. We ran the function by specifying 4 parameters (`folder`, `latlim`, `lonlim` and `timelim`), but there are more arguments we can pass to this function.\n",
    "\n",
    "Using Pythons `help()` function, we can see the documentation of the `pre_et_look` function."
   ]
  },
  {
   "cell_type": "code",
   "execution_count": null,
   "metadata": {},
   "outputs": [],
   "source": [
    "import pywapor\n",
    "\n",
    "help(pywapor.pre_et_look.main)"
   ]
  },
  {
   "attachments": {},
   "cell_type": "markdown",
   "metadata": {},
   "source": [
    "> **Question**\n",
    "> \n",
    "> * Which other parameters can be passed to the `pre_et_look` function? What are their respective datatypes?\n",
    "> \n",
    "> * Which values did we use for those parameters in the first exercise?"
   ]
  },
  {
   "attachments": {},
   "cell_type": "markdown",
   "metadata": {},
   "source": [
    "We'll start by having a closer look at the parameter that specifies (among others) which input data source are used. Using the function below, we can get more information about the sources."
   ]
  },
  {
   "cell_type": "code",
   "execution_count": null,
   "metadata": {},
   "outputs": [],
   "source": [
    "lvl1_info = pywapor.general.levels.pre_et_look_levels(\"level_1\")"
   ]
  },
  {
   "attachments": {},
   "cell_type": "markdown",
   "metadata": {},
   "source": [
    "> **Question**\n",
    "> \n",
    "> * What is the datatype of `lvl1_info`?\n",
    "> \n",
    "> * Can you print the keys of `lvl1_info`?"
   ]
  },
  {
   "cell_type": "code",
   "execution_count": null,
   "metadata": {},
   "outputs": [],
   "source": [
    "# Write some code here to find the datatype and to print the keys contained in lvl1_info here"
   ]
  },
  {
   "attachments": {},
   "cell_type": "markdown",
   "metadata": {},
   "source": [
    "One of the keys in `lvl1_info` is `ndvi`. Can you print the value associated with this key?"
   ]
  },
  {
   "cell_type": "code",
   "execution_count": null,
   "metadata": {},
   "outputs": [],
   "source": [
    "# Write some code to print the value of the ndvi item ."
   ]
  },
  {
   "attachments": {},
   "cell_type": "markdown",
   "metadata": {},
   "source": [
    "As you can see, the `products` used for `ndvi` at `level_1` have source `MODIS`.\n",
    "\n",
    "> **Question**\n",
    "> \n",
    "> Can you complete the table below?"
   ]
  },
  {
   "attachments": {},
   "cell_type": "markdown",
   "metadata": {},
   "source": [
    "> **ET_Look input sources**\n",
    "> |                 | Level-1 | Level-2 | Level-3 | Level-2 (v3) |\n",
    "> |-----------------|---------|---------|---------|--------------|\n",
    "> | NDVI            | MODIS   |         |         |              |\n",
    "> | Albedo (r0)     | MODIS   |         |         |              |\n",
    "> | Precipiation    | CHIRPS  |         |         |              |\n",
    "> | DEM (z)         |         |         |         |              |\n",
    "> | Solar Radiation |         |         |         |              |\n",
    "> | Meteo-data      |         |         |         |              |\n",
    "> | SE_Root         |         |         |         |              |"
   ]
  },
  {
   "attachments": {},
   "cell_type": "markdown",
   "metadata": {},
   "source": [
    "Just like the function `pywapor.general.levels.pre_et_look_levels` we used above, the function `pywapor.general.levels.pre_se_root_levels` can give us information about the sources used for the SE_Root model."
   ]
  },
  {
   "cell_type": "code",
   "execution_count": null,
   "metadata": {},
   "outputs": [],
   "source": [
    "lvl1_se_root_info = pywapor.general.levels.pre_se_root_levels(\"level_1\")"
   ]
  },
  {
   "attachments": {},
   "cell_type": "markdown",
   "metadata": {},
   "source": [
    "> **Question**\n",
    "> \n",
    "> Complete this table too."
   ]
  },
  {
   "cell_type": "code",
   "execution_count": null,
   "metadata": {},
   "outputs": [],
   "source": [
    "# Write some code to print the keys contained in lvl1_se_root_info here"
   ]
  },
  {
   "attachments": {},
   "cell_type": "markdown",
   "metadata": {},
   "source": [
    "> **SE_Root input sources**\n",
    "> |                 | Level-1 | Level-2 | Level-3 | Level-2 (v3) |\n",
    "> |-----------------|---------|---------|---------|--------------|\n",
    "> | NDVI            |         |         |         |              |\n",
    "> | LST             |         |         |         |              |\n",
    "> | Meteo-data      |         |         |         |              |"
   ]
  },
  {
   "attachments": {},
   "cell_type": "markdown",
   "metadata": {},
   "source": [
    "In a following exercise we are going to run `pre_et_look` and `et_look` at another level. For now we will focus a bit more on some indivicual data sources."
   ]
  },
  {
   "attachments": {},
   "cell_type": "markdown",
   "metadata": {},
   "source": [
    "#### Collecting data\n",
    "\n",
    "When you run `pre_et_look`, the data sources you summarized in the tables above get collected automatically. As you could see, some of the variables for level-3 use Landsat data. \n",
    "\n",
    "Here we are going to download some **Landsat-8 Surface Reflectance** data, calculate NDVI with it and create a color image for it. For a color image, we'll need bands with `red`, `blue` and `green` reflection data. What do we need for NDVI?\n",
    "\n",
    "> **Question**\n",
    "> \n",
    "> * What is the formula to calculate [NDVI](https://en.wikipedia.org/wiki/Normalized_difference_vegetation_index)?\n",
    ">\n",
    "> * So which bands do you need to calculate it?\n"
   ]
  },
  {
   "attachments": {},
   "cell_type": "markdown",
   "metadata": {},
   "source": [
    "First we'll need to configure our login details. \n",
    "\n",
    "> **Question**\n",
    "> \n",
    "> Can you setup the password for `\"EARTHEXPLORER\"` just like you did for `\"NASA\"` in the previous exercise?"
   ]
  },
  {
   "cell_type": "code",
   "execution_count": null,
   "metadata": {},
   "outputs": [],
   "source": [
    "# Write some code here to configure you EARTHEXPLORER account."
   ]
  },
  {
   "attachments": {},
   "cell_type": "markdown",
   "metadata": {},
   "source": [
    "We are going to use the function called `pywapor.collect.product.LANDSAT.download` to download some **Landsat-8** data.\n",
    "\n",
    "> **Question**\n",
    "> \n",
    "> * Can you display the documentation of this function?\n",
    "> \n",
    "> * Which 2 parameters does this function need in addition to the once already given below? \n",
    ">\n",
    "> * NOTE 1: You can change `timelim` if you want to, but keep the period short, otherwise the code will start download **many** landsat tiles which can take a while).\n",
    ">\n",
    "> * NOTE 2: The table on datasources in the [pyWaPOR Documentation](https://www.fao.org/aquastat/py-wapor/data_sources.html) can be usefull here."
   ]
  },
  {
   "cell_type": "code",
   "execution_count": null,
   "metadata": {},
   "outputs": [],
   "source": [
    "# Write some code to display the documentation for this function here."
   ]
  },
  {
   "cell_type": "code",
   "execution_count": null,
   "metadata": {},
   "outputs": [],
   "source": [
    "# Define the parameters that are needed here\n",
    "folder = r\"/Users/hmcoerver/Local/2_products_collect\"\n",
    "timelim = [\"2022-09-05\", \"2022-09-06\"]\n",
    "latlim = [25.65, 26.40]\n",
    "lonlim = [67.67, 68.47]\n",
    "\n",
    "product_name = \"\"\n",
    "req_vars = []"
   ]
  },
  {
   "attachments": {},
   "cell_type": "markdown",
   "metadata": {},
   "source": [
    "Now that we have defined the six mandatory parameters, we can run the function."
   ]
  },
  {
   "cell_type": "code",
   "execution_count": null,
   "metadata": {},
   "outputs": [],
   "source": [
    "ds = pywapor.collect.product.LANDSAT.download(folder, # Finish the code here."
   ]
  },
  {
   "attachments": {},
   "cell_type": "markdown",
   "metadata": {},
   "source": [
    "> **Question**\n",
    "> \n",
    "> Can you figure out what the CRS, resolution and bounding-box of this dataset is?"
   ]
  },
  {
   "cell_type": "code",
   "execution_count": null,
   "metadata": {},
   "outputs": [],
   "source": [
    "# Write some code here to figure out what the resolution, bounding-box and CRS of the dataset is."
   ]
  },
  {
   "attachments": {},
   "cell_type": "markdown",
   "metadata": {},
   "source": [
    "Next we'll define a little function that can help us to plot the RGB image."
   ]
  },
  {
   "cell_type": "code",
   "execution_count": null,
   "metadata": {},
   "outputs": [],
   "source": [
    "import matplotlib.pyplot as plt\n",
    "\n",
    "def plot_rgb(ds, time_index = 0):\n",
    "    rgb = ds[[\"red\", \"green\", \"blue\"]].isel(time=time_index).to_array(\"bands\")\n",
    "    rgb_trans = rgb.transpose(\"y\", \"x\", \"bands\")\n",
    "    rgb_norm = (rgb_trans - rgb_trans.min()) / (rgb_trans.max() - rgb_trans.min())\n",
    "    fig = plt.figure(dpi = 300)\n",
    "    ax = fig.gca()\n",
    "    ax.imshow(rgb_norm.values)\n",
    "    ax.set_xticks([])\n",
    "    ax.set_yticks([])\n",
    "    ax.set_title(ds.time.isel(time=time_index).values)\n",
    "    return fig"
   ]
  },
  {
   "attachments": {},
   "cell_type": "markdown",
   "metadata": {},
   "source": [
    "> **Question**\n",
    "> \n",
    "> * Can you plot the RGB image using this function?\n",
    "> \n",
    "> * Note: you can also open the file (remember to do `ds.encoding[\"source\"]` to find out its path) we've created in QGIS (or similar) and create a interactive/zoomable RGB image there. Feel free to try."
   ]
  },
  {
   "cell_type": "code",
   "execution_count": null,
   "metadata": {},
   "outputs": [],
   "source": [
    "# Create the image using the function we've just defined."
   ]
  },
  {
   "attachments": {},
   "cell_type": "markdown",
   "metadata": {},
   "source": [
    "Now that we've had a look at the image we've downloaded, let's use the data to calculate the NDVI. The XArray datasets (i.e. `ds`) that we've been using throughout these exercises act very similar to regular Python dictionaries. You can create new variables in the dataset, just like you add new key/value pairs to a dictionary. For example, I can create a (pretty useless) variable with the `red` values multiplied by two like this. "
   ]
  },
  {
   "cell_type": "code",
   "execution_count": null,
   "metadata": {},
   "outputs": [],
   "source": [
    "ds[\"double_red\"] = ds[\"red\"] * 2"
   ]
  },
  {
   "attachments": {},
   "cell_type": "markdown",
   "metadata": {},
   "source": [
    "> **Question**\n",
    ">\n",
    "> * Add a new NDVI variable to your dataset.\n",
    ">\n",
    "> * Then create a plot of NDVI."
   ]
  },
  {
   "cell_type": "code",
   "execution_count": null,
   "metadata": {},
   "outputs": [],
   "source": [
    "# Add NDVI to your dataset here."
   ]
  },
  {
   "cell_type": "code",
   "execution_count": null,
   "metadata": {},
   "outputs": [],
   "source": [
    "# Create a NDVI plot here"
   ]
  },
  {
   "attachments": {},
   "cell_type": "markdown",
   "metadata": {},
   "source": [
    "#### Albedo\n",
    "\n",
    "Albedo can also be calculated from several Landsat bands. The formula used to calculate albedo in WaPOR-ETLook can be found [here](https://bitbucket.org/cioapps/wapor-et-look/wiki/Home).\n",
    "\n",
    "> **Question**\n",
    "> \n",
    "> Can you download the required bands and calculate Albedo?"
   ]
  },
  {
   "cell_type": "code",
   "execution_count": null,
   "metadata": {},
   "outputs": [],
   "source": [
    "# Calculate albedo for the same Landsat image we've calculated NDVI for."
   ]
  },
  {
   "attachments": {},
   "cell_type": "markdown",
   "metadata": {},
   "source": [
    "#### Your turn!\n",
    "\n",
    "Above we've used the function `pywapor.collect.product.LANDSAT.download`. The `pywapor.collect.product` package contains many more of these `download` functions to download data from other sources. by running `help(pywapor.collect.product)` we can see which other products are available."
   ]
  },
  {
   "cell_type": "code",
   "execution_count": null,
   "metadata": {},
   "outputs": [],
   "source": [
    "help(pywapor.collect.product)"
   ]
  },
  {
   "attachments": {},
   "cell_type": "markdown",
   "metadata": {},
   "source": [
    "> **Question**\n",
    ">\n",
    "> * Can you download some other dataset?\n",
    "> \n",
    "> * Note: you might needs more accounts for some of them!\n",
    "> \n",
    "> * Can you figure out which product requires which account and summarize them in a table? "
   ]
  },
  {
   "cell_type": "code",
   "execution_count": null,
   "metadata": {},
   "outputs": [],
   "source": [
    "# Try to download some other dataset(s) here."
   ]
  }
 ],
 "metadata": {
  "kernelspec": {
   "display_name": "pywapor",
   "language": "python",
   "name": "python3"
  },
  "language_info": {
   "codemirror_mode": {
    "name": "ipython",
    "version": 3
   },
   "file_extension": ".py",
   "mimetype": "text/x-python",
   "name": "python",
   "nbconvert_exporter": "python",
   "pygments_lexer": "ipython3",
   "version": "3.10.6 | packaged by conda-forge | (main, Aug 22 2022, 20:41:22) [Clang 13.0.1 ]"
  },
  "orig_nbformat": 4,
  "vscode": {
   "interpreter": {
    "hash": "30267a9963ef4e891f35edf7c2db672f8b38daceac54cc246d7b09d3d93c63b2"
   }
  }
 },
 "nbformat": 4,
 "nbformat_minor": 2
}
