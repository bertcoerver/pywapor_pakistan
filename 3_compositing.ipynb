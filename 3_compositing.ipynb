{
 "cells": [
  {
   "cell_type": "code",
   "execution_count": null,
   "metadata": {},
   "outputs": [],
   "source": [
    "!pip install pywapor --quiet"
   ]
  },
  {
   "attachments": {},
   "cell_type": "markdown",
   "metadata": {},
   "source": [
    "### Composites\n",
    "\n",
    "In this notebook we'll take a closer look at how `pre_et_look` works internally. To do so, we'll be using a couple of functions that you'd normally not need to touch, because they are called automatically when you run `pywapor.pre_et_look.main`."
   ]
  },
  {
   "cell_type": "code",
   "execution_count": null,
   "metadata": {},
   "outputs": [],
   "source": [
    "import pywapor\n",
    "\n",
    "folder = r\"/Users/hmcoerver/Local/3_compositing\"\n",
    "latlim = [28.9, 29.7]\n",
    "lonlim = [30.2, 31.2]\n",
    "timelim = [\"2021-06-01\", \"2021-08-01\"]"
   ]
  },
  {
   "attachments": {},
   "cell_type": "markdown",
   "metadata": {},
   "source": [
    "Previously, we had a closer look at the keyword-argument `sources`. Here we'll look at another keyword-argument that controls how the \"time_bins\" or \"composites\" are configured. We can look at the documentation again like this."
   ]
  },
  {
   "cell_type": "code",
   "execution_count": null,
   "metadata": {},
   "outputs": [],
   "source": [
    "help(pywapor.pre_et_look.main)"
   ]
  },
  {
   "attachments": {},
   "cell_type": "markdown",
   "metadata": {},
   "source": [
    "> **Question**\n",
    ">\n",
    "> * Which keyword-argument control the composite length?\n",
    ">\n",
    "> * What is its default value?"
   ]
  },
  {
   "attachments": {},
   "cell_type": "markdown",
   "metadata": {},
   "source": [
    "One of the first things happening when you run `pre_et_look`, is the creation of a more precise definition of the composites (from here on also referred to as time_bins) for which `pre_et_look` will prepare the data to be used by `et_look`.\n",
    "\n",
    "By combining the period we've selected (i.e. `timelim`) and the `bin_length` we've chosen, `pre_et_look` will create the bins using the function `pywapor.general.compositer.time_bins`. We can run it like this."
   ]
  },
  {
   "cell_type": "code",
   "execution_count": null,
   "metadata": {},
   "outputs": [],
   "source": [
    "bin_length = \"DEKAD\"\n",
    "\n",
    "bins = pywapor.general.compositer.time_bins(timelim, bin_length)"
   ]
  },
  {
   "attachments": {},
   "cell_type": "markdown",
   "metadata": {},
   "source": [
    "> **Question**\n",
    ">\n",
    "> * What does the variable `bins` contain?\n",
    ">\n",
    "> * What is the length of `bins`?"
   ]
  },
  {
   "cell_type": "code",
   "execution_count": null,
   "metadata": {},
   "outputs": [],
   "source": [
    "# Check out bins here."
   ]
  },
  {
   "attachments": {},
   "cell_type": "markdown",
   "metadata": {},
   "source": [
    "After defining the bins, `pre_et_look` will start collecting the different datasources. It does this with a function called `pywapor.collect.downloader.collect_sources`. \n",
    "\n",
    "In a previous exercise, we saw that we can get more \"information\" about a level by calling the following function."
   ]
  },
  {
   "cell_type": "code",
   "execution_count": null,
   "metadata": {},
   "outputs": [],
   "source": [
    "lvl1_info = pywapor.general.levels.pre_et_look_levels(\"level_1\")"
   ]
  },
  {
   "attachments": {},
   "cell_type": "markdown",
   "metadata": {},
   "source": [
    "`collect_sources` uses the information stored in `lvl1_info` to determine what to download and how to pre-process that data. In this exercise we don't want all the data needed by `et_look` to download. Instead, we'll only download NDVI data. To do that we'll have to remove some information from `lvl1_info`.\n",
    "\n",
    "> **Question**\n",
    ">\n",
    "> * Which keys does lvl1_info contain?\n",
    ">\n",
    "> * Note: check the Python intro notebook if you forgot how to list a dictionaries keys."
   ]
  },
  {
   "cell_type": "code",
   "execution_count": null,
   "metadata": {},
   "outputs": [],
   "source": [
    "# List the keys of lvl1_info"
   ]
  },
  {
   "attachments": {},
   "cell_type": "markdown",
   "metadata": {},
   "source": [
    "Now we will remove all the keys, except `\"ndvi\"` (and we override one key-value pair)."
   ]
  },
  {
   "cell_type": "code",
   "execution_count": null,
   "metadata": {},
   "outputs": [],
   "source": [
    "selected_sources = {k: v for k, v in lvl1_info.items() if k in [\"ndvi\"]}\n",
    "\n",
    "selected_sources[\"ndvi\"][\"temporal_interp\"] = False\n",
    "\n",
    "selected_sources"
   ]
  },
  {
   "attachments": {},
   "cell_type": "markdown",
   "metadata": {},
   "source": [
    "> **Question**\n",
    ">\n",
    "> How many keys are left in `selected_sources`?"
   ]
  },
  {
   "attachments": {},
   "cell_type": "markdown",
   "metadata": {},
   "source": [
    "Now that we have filtered the sources, we can run the function `collect_sources` to download NDVI data."
   ]
  },
  {
   "cell_type": "code",
   "execution_count": null,
   "metadata": {},
   "outputs": [],
   "source": [
    "dss, selected_sources = pywapor.collect.downloader.collect_sources(folder, selected_sources, latlim, lonlim, timelim)"
   ]
  },
  {
   "attachments": {},
   "cell_type": "markdown",
   "metadata": {},
   "source": [
    "> **Question**\n",
    ">\n",
    "> What datatype is `dss` and what does it contain?"
   ]
  },
  {
   "cell_type": "code",
   "execution_count": null,
   "metadata": {},
   "outputs": [],
   "source": [
    "# Inspect the variables dss here."
   ]
  },
  {
   "attachments": {},
   "cell_type": "markdown",
   "metadata": {},
   "source": [
    "Next we'll define a new function that can plot timeseries from netcdf files."
   ]
  },
  {
   "cell_type": "code",
   "execution_count": null,
   "metadata": {},
   "outputs": [],
   "source": [
    "import matplotlib.pyplot as plt\n",
    "import xarray as xr\n",
    "import numpy as np\n",
    "\n",
    "def plot_timeseries(dss, latlon, composites = None, var = \"ndvi\", unit = \"-\"):\n",
    "    fig = plt.figure(figsize = (7, 3), dpi=100)\n",
    "    ax = fig.gca()\n",
    "\n",
    "    if not isinstance(composites, type(None)):\n",
    "        x = composites.time_bins.values\n",
    "        y = composites.sel(y = latlon[0], x = latlon[1], method = \"nearest\")[var].values\n",
    "        width = np.diff(bins) \n",
    "        ax.bar(x, y, width = width, align = \"edge\", color = \"lightblue\", edgecolor = \"darkblue\", zorder = 8, alpha = 0.8)\n",
    "\n",
    "    for product, ds_fh in dss.items():\n",
    "        ds = xr.open_dataset(ds_fh, decode_coords = \"all\")\n",
    "        y = ds.sel(y = latlon[0], x = latlon[1], method = \"nearest\")[var].values\n",
    "        x = ds.time.values\n",
    "        ax.scatter(x, y, label = \".\".join(product), zorder = 10)\n",
    "\n",
    "    ax.legend()\n",
    "    ax.grid(zorder = 0)\n",
    "    ax.set_facecolor(\"lightgray\")\n",
    "    ax.set_xlabel(\"time\")\n",
    "    ax.set_ylabel(f\"{var} [{unit}]\")"
   ]
  },
  {
   "attachments": {},
   "cell_type": "markdown",
   "metadata": {},
   "source": [
    "> **Question**\n",
    ">\n",
    "> Which arguments does this function require?\n",
    ">\n",
    "> Which keyword-arguments can this function take?"
   ]
  },
  {
   "attachments": {},
   "cell_type": "markdown",
   "metadata": {},
   "source": [
    "With this function we can plot timeseries at a chosen point of interest. We can define a point by making a list with a latitude and a longitude value."
   ]
  },
  {
   "cell_type": "code",
   "execution_count": null,
   "metadata": {},
   "outputs": [],
   "source": [
    "latlon = [29.32301, 30.77599]\n",
    "plot_timeseries(dss, latlon)"
   ]
  },
  {
   "attachments": {},
   "cell_type": "markdown",
   "metadata": {},
   "source": [
    "Next, we'll run the functions that turns these seperate measurements into composites (again, normally this is done internally when you run `pywapor.pre_et_look.main`). Note that we pass an empty list here for the `enhancers` argument, we'll get back to enhancers at a later point. "
   ]
  },
  {
   "cell_type": "code",
   "execution_count": null,
   "metadata": {},
   "outputs": [],
   "source": [
    "enhancers = []\n",
    "ds_composites = pywapor.general.compositer.main(dss, selected_sources, folder, enhancers, bins)"
   ]
  },
  {
   "attachments": {},
   "cell_type": "markdown",
   "metadata": {},
   "source": [
    "> **Question**\n",
    "> \n",
    "> * What is the datatype of `ds_composites`?\n",
    ">\n",
    "> * Which dimensions and sizes does `ndvi` in `ds_composites` have. Does that correspond to what you saw in the graph above."
   ]
  },
  {
   "cell_type": "code",
   "execution_count": null,
   "metadata": {},
   "outputs": [],
   "source": [
    "# Inspect ds_composites here"
   ]
  },
  {
   "attachments": {},
   "cell_type": "markdown",
   "metadata": {},
   "source": [
    "Now we can pass this dataset to the function we've created earlier as a keyword-argument. \n",
    "\n",
    "> **Question**\n",
    ">\n",
    "> Re-run the function used defined earlier, but now with the keyword-argument `composites` set to `ds_composites`."
   ]
  },
  {
   "cell_type": "code",
   "execution_count": null,
   "metadata": {},
   "outputs": [],
   "source": [
    "# Rerun the plotting function here."
   ]
  },
  {
   "attachments": {},
   "cell_type": "markdown",
   "metadata": {},
   "source": [
    "In the graph we have just created, you should see a couple of things. First of all, there are blue-dots and orange-dots that show available NDVI measurements at our POI, coming from MOD13 and MYD13 respectively. Then there are blue bars that show the composite pixel values at this location. \n",
    "\n",
    "> **Question**\n",
    "> \n",
    "> How many days wide are the blue bars\n",
    "\n",
    "Each composite value is the mean of the available measurements within the respective `time_bin`. For example, most of the bars match with some of the measurements. While the first bar is exactly in between two measurements, i.e. it’s the mean of the two available measurements.\n",
    "\n",
    "> **Question**\n",
    ">\n",
    "> Now lets adjust the width of the composites, to be 6 days instead of dekadal. Can you recalculate the variable `bins` with a `bin_length` of 6 days"
   ]
  },
  {
   "cell_type": "code",
   "execution_count": null,
   "metadata": {},
   "outputs": [],
   "source": [
    "# Recalculate the bins here"
   ]
  },
  {
   "attachments": {},
   "cell_type": "markdown",
   "metadata": {},
   "source": [
    "> **Question**\n",
    "> \n",
    "> * What is the length of `bins`?\n",
    ">\n",
    "> * Can you recalculate the composites?"
   ]
  },
  {
   "cell_type": "code",
   "execution_count": null,
   "metadata": {},
   "outputs": [],
   "source": [
    "# Recalculate `ds_composites` here."
   ]
  },
  {
   "attachments": {},
   "cell_type": "markdown",
   "metadata": {},
   "source": [
    "> **Question**\n",
    ">\n",
    "> Now make a new plot."
   ]
  },
  {
   "cell_type": "code",
   "execution_count": null,
   "metadata": {},
   "outputs": [],
   "source": [
    "#Make another plot here"
   ]
  },
  {
   "attachments": {},
   "cell_type": "markdown",
   "metadata": {},
   "source": [
    "> **Question** \n",
    ">\n",
    "> Do you see anything unusual in this plot?\n",
    "\n",
    "We can solve this by turning on temporal interpolation for NDVI. The temporal interpolation is defined inside the variable `selected_sources`.\n",
    "\n",
    "> **Question**\n",
    ">\n",
    "> * Can you set the key `temporal_interp` inside `selected_sources` to `\"linear\"`?\n",
    ">\n",
    "> * Hint: near the beginnning of this exercise we have already set it to `False`."
   ]
  },
  {
   "cell_type": "code",
   "execution_count": null,
   "metadata": {},
   "outputs": [],
   "source": [
    "# Adjust the settings for tempoeral_interpolation of ndvi here."
   ]
  },
  {
   "attachments": {},
   "cell_type": "markdown",
   "metadata": {},
   "source": [
    "Now we can run the compositer again and create another plot."
   ]
  },
  {
   "cell_type": "code",
   "execution_count": null,
   "metadata": {},
   "outputs": [],
   "source": [
    "ds_composites = pywapor.general.compositer.main(dss, selected_sources, folder, enhancers, bins)\n",
    "plot_timeseries(dss, latlon, composites = ds_composites)"
   ]
  },
  {
   "attachments": {},
   "cell_type": "markdown",
   "metadata": {},
   "source": [
    "The two composites that were previously missing are now there! Note that although here we are looking at one pixel, these interpolations are done for the entire domain.\n",
    "\n",
    "Possible values for `\"temporal_interp\"` are `False`, `\"linear\"`, `\"nearest\"`, `\"zero\"`, `\"slinear\"`, `\"quadratic\"` or `\"cubic\"`. But be aware that some of these can be computationally heavy.\n",
    "\n",
    "#### Your turn!\n",
    "\n",
    "> **Question**\n",
    "> \n",
    "> * What happens when you create very small or large bins?\n",
    ">\n",
    "> * Try out the other interpolation methods.\n",
    ">\n",
    "> * What happens when you change the `\"composite_type\"` from `\"mean\"` to `\"max\"` or `\"min\"`?"
   ]
  }
 ],
 "metadata": {
  "kernelspec": {
   "display_name": "pywapor",
   "language": "python",
   "name": "python3"
  },
  "language_info": {
   "codemirror_mode": {
    "name": "ipython",
    "version": 3
   },
   "file_extension": ".py",
   "mimetype": "text/x-python",
   "name": "python",
   "nbconvert_exporter": "python",
   "pygments_lexer": "ipython3",
   "version": "3.10.6 | packaged by conda-forge | (main, Aug 22 2022, 20:41:22) [Clang 13.0.1 ]"
  },
  "orig_nbformat": 4,
  "vscode": {
   "interpreter": {
    "hash": "30267a9963ef4e891f35edf7c2db672f8b38daceac54cc246d7b09d3d93c63b2"
   }
  }
 },
 "nbformat": 4,
 "nbformat_minor": 2
}
