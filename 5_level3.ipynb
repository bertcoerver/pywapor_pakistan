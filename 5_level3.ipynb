{
 "cells": [
  {
   "cell_type": "code",
   "execution_count": null,
   "metadata": {},
   "outputs": [],
   "source": [
    "!pip install pywapor --quiet"
   ]
  },
  {
   "attachments": {},
   "cell_type": "markdown",
   "metadata": {},
   "source": [
    "#### Running pyWaPOR at level-3\n",
    "\n",
    "We've already explored how to run pyWaPOR at level-1 and looked at what differences there are between the different levels with regards to their input datasets. Here we're going to run pyWaPOR at level-3."
   ]
  },
  {
   "cell_type": "code",
   "execution_count": null,
   "metadata": {},
   "outputs": [],
   "source": [
    "folder = r\"/Users/hmcoerver/Local/5_level3\"\n",
    "timelim = [\"2021-08-11\", \"2021-08-21\"]\n",
    "lonlim = [68.5, 69.0]\n",
    "latlim = [25.5, 26.0]\n",
    "\n",
    "sources = \"level_3\""
   ]
  },
  {
   "attachments": {},
   "cell_type": "markdown",
   "metadata": {},
   "source": [
    "> **Question**\n",
    "> \n",
    "> We also need import the pywapor package, remember how to do that?"
   ]
  },
  {
   "cell_type": "code",
   "execution_count": null,
   "metadata": {},
   "outputs": [],
   "source": [
    "# Import the pywapor package here."
   ]
  },
  {
   "attachments": {},
   "cell_type": "markdown",
   "metadata": {},
   "source": [
    "Now that we have defined the inputs to `pywapor.pre_et_look.main` and imported the pywapor package, we can run the function.\n",
    "\n",
    "> **Question**\n",
    ">\n",
    "> Run `pre_et_look` (and don't forget to pass the keyword-argument to select level-3 instead of level-1 too)!"
   ]
  },
  {
   "cell_type": "code",
   "execution_count": null,
   "metadata": {},
   "outputs": [],
   "source": [
    "# Run pre_et_look here"
   ]
  },
  {
   "attachments": {},
   "cell_type": "markdown",
   "metadata": {},
   "source": [
    "Now that we have prepared our inputs, let's see if everything is as expected.\n",
    "\n",
    "> **Question**\n",
    ">\n",
    "> * Can you check the resolution of the data, how does it compare to the level-1 data we ran yesterday?\n",
    "> \n",
    "> * Try plotting some of the variables, do you see anything unusual?"
   ]
  },
  {
   "cell_type": "code",
   "execution_count": null,
   "metadata": {},
   "outputs": [],
   "source": [
    "# Check the resolution of the ds here."
   ]
  },
  {
   "cell_type": "code",
   "execution_count": null,
   "metadata": {},
   "outputs": [],
   "source": [
    "# Create some plots here."
   ]
  },
  {
   "attachments": {},
   "cell_type": "markdown",
   "metadata": {},
   "source": [
    "We could now use this dataset to run the model, but let's first try to improve some things first."
   ]
  },
  {
   "attachments": {},
   "cell_type": "markdown",
   "metadata": {},
   "source": [
    "#### Gapfilling\n",
    "\n",
    "On May 31, 2003, the Scan Line Corrector (SLC), which compensates for the forward motion of the Landsat-7 satellite, failed. As a result, Landsat-7 images taken after this date have lines of missing data.\n",
    "\n",
    "We can see the problem more clearly by looking at the Landsat-7 images individually. `pre_et_look` has saved the individual landsat-7 scenes in a file called `\"LE07_SR.nc\"`. To open it, we need pass the full path to the file to the function called `pywapor.general.processing_functions.open_ds`. "
   ]
  },
  {
   "cell_type": "code",
   "execution_count": null,
   "metadata": {},
   "outputs": [],
   "source": [
    "import os\n",
    "ls7_path = os.path.join(folder, \"LANDSAT\", \"LE07_SR.nc\")\n",
    "ls7_ds = pywapor.general.processing_functions.open_ds(ls7_path)"
   ]
  },
  {
   "attachments": {},
   "cell_type": "markdown",
   "metadata": {},
   "source": [
    "> **Question**\n",
    ">\n",
    "> * How many scenes do you find in this dataset?\n",
    ">\n",
    "> * How many of the scenes in this dataset were used to create the NDVI composites in the dataset above (i.e. in `ds`)?"
   ]
  },
  {
   "cell_type": "code",
   "execution_count": null,
   "metadata": {},
   "outputs": [],
   "source": [
    "# Inspect the ls7_ds dataset here"
   ]
  },
  {
   "attachments": {},
   "cell_type": "markdown",
   "metadata": {},
   "source": [
    "Let's create a plot of one Landsat-7 scene."
   ]
  },
  {
   "cell_type": "code",
   "execution_count": null,
   "metadata": {},
   "outputs": [],
   "source": [
    "ls7_ds.ndvi.isel(time=1).plot()"
   ]
  },
  {
   "attachments": {},
   "cell_type": "markdown",
   "metadata": {},
   "source": [
    "Here the scanline problem is clearly visible. In the previous excercise we experimented with adjusted the sources dictionary to change the spatial interpolation used for air temperature and we toggled the lapse rate correction on and off.\n",
    "\n",
    "It is also possible to pass enhancer functions (such as lapse_rate) to specific variables from specific sources. Here we are going to try to use a gap filling function on the albedo and ndvi data coming from Landsat-7.\n",
    "\n",
    "Let's start by getting the information dictionary for level-3."
   ]
  },
  {
   "cell_type": "code",
   "execution_count": null,
   "metadata": {},
   "outputs": [],
   "source": [
    "lvl3_info = pywapor.general.levels.pre_et_look_levels(\"level_3\")"
   ]
  },
  {
   "attachments": {},
   "cell_type": "markdown",
   "metadata": {},
   "source": [
    "We can look at the information regarding NDVI like this."
   ]
  },
  {
   "cell_type": "code",
   "execution_count": null,
   "metadata": {},
   "outputs": [],
   "source": [
    "lvl3_info[\"ndvi\"]"
   ]
  },
  {
   "attachments": {},
   "cell_type": "markdown",
   "metadata": {},
   "source": [
    "> **Question**\n",
    ">\n",
    "> What is the current value for the enhancers of Landsat-7?\n",
    "\n",
    "We can check what `\"default\"` means exactly, by running this function."
   ]
  },
  {
   "cell_type": "code",
   "execution_count": null,
   "metadata": {},
   "outputs": [],
   "source": [
    "default_enhancers = pywapor.collect.product.LANDSAT.default_post_processors('LE07_SR', [\"ndvi\"])[\"ndvi\"]\n",
    "default_enhancers"
   ]
  },
  {
   "attachments": {},
   "cell_type": "markdown",
   "metadata": {},
   "source": [
    "In order to apply fill the empty scanlines, we can add a gap filling function to this list and replace the `\"default\"` string with the list.\n",
    "\n",
    "Let's start by importing a gap filling function."
   ]
  },
  {
   "cell_type": "code",
   "execution_count": null,
   "metadata": {},
   "outputs": [],
   "source": [
    "from pywapor.enhancers.gap_fill import gap_fill"
   ]
  },
  {
   "attachments": {},
   "cell_type": "markdown",
   "metadata": {},
   "source": [
    "> **Question**\n",
    "> \n",
    "> Do you know how to open the documentation for this function?"
   ]
  },
  {
   "cell_type": "code",
   "execution_count": null,
   "metadata": {},
   "outputs": [],
   "source": [
    "# open the documentation for gap_fill"
   ]
  },
  {
   "attachments": {},
   "cell_type": "markdown",
   "metadata": {},
   "source": [
    "We'll need to include this function in the lvl3_info for ndvi.\n",
    "\n",
    "First we'll add the function to the default enhancers."
   ]
  },
  {
   "cell_type": "code",
   "execution_count": null,
   "metadata": {},
   "outputs": [],
   "source": [
    "all_enhancers = default_enhancers + [gap_fill]"
   ]
  },
  {
   "attachments": {},
   "cell_type": "markdown",
   "metadata": {},
   "source": [
    "Then we put the list into the lvl3_info dictionary."
   ]
  },
  {
   "cell_type": "code",
   "execution_count": null,
   "metadata": {},
   "outputs": [],
   "source": [
    "lvl3_info[\"ndvi\"][\"products\"][1][\"enhancers\"] = all_enhancers"
   ]
  },
  {
   "attachments": {},
   "cell_type": "markdown",
   "metadata": {},
   "source": [
    "Before running `pre_et_look` again, we'll delete the Landsat-7 file we inspected earlier, in order to make sure that it really get regenerated with the gap-filling."
   ]
  },
  {
   "cell_type": "code",
   "execution_count": null,
   "metadata": {},
   "outputs": [],
   "source": [
    "os.remove(ls7_path)"
   ]
  },
  {
   "attachments": {},
   "cell_type": "markdown",
   "metadata": {},
   "source": [
    "Then we can finally run `pre_et_look` again!"
   ]
  },
  {
   "cell_type": "code",
   "execution_count": null,
   "metadata": {},
   "outputs": [],
   "source": [
    "ds_filled  = pywapor.pre_et_look.main(folder, latlim, lonlim, timelim, sources = lvl3_info)"
   ]
  },
  {
   "attachments": {},
   "cell_type": "markdown",
   "metadata": {},
   "source": [
    "> **Question**\n",
    "> \n",
    "> * Do you see any trace of the gap filling in the log?\n",
    ">\n",
    "> * Create a new plot of the ndvi, does it look better?"
   ]
  },
  {
   "cell_type": "code",
   "execution_count": null,
   "metadata": {},
   "outputs": [],
   "source": [
    "# Plot an ndvi map here."
   ]
  },
  {
   "attachments": {},
   "cell_type": "markdown",
   "metadata": {},
   "source": [
    "#### Your turn!\n",
    "\n",
    "> **Question**\n",
    ">\n",
    "> * Did we apply the gap filling to the albedo (r0) too?\n",
    ">\n",
    "> * Can you do it? \n",
    ">\n",
    "> * Then run the `et_look` model."
   ]
  }
 ],
 "metadata": {
  "kernelspec": {
   "display_name": "pywapor",
   "language": "python",
   "name": "python3"
  },
  "language_info": {
   "codemirror_mode": {
    "name": "ipython",
    "version": 3
   },
   "file_extension": ".py",
   "mimetype": "text/x-python",
   "name": "python",
   "nbconvert_exporter": "python",
   "pygments_lexer": "ipython3",
   "version": "3.10.6 | packaged by conda-forge | (main, Aug 22 2022, 20:41:22) [Clang 13.0.1 ]"
  },
  "orig_nbformat": 4,
  "vscode": {
   "interpreter": {
    "hash": "30267a9963ef4e891f35edf7c2db672f8b38daceac54cc246d7b09d3d93c63b2"
   }
  }
 },
 "nbformat": 4,
 "nbformat_minor": 2
}
