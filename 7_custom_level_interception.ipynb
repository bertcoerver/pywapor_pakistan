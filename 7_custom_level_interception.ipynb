{
 "cells": [
  {
   "cell_type": "code",
   "execution_count": null,
   "metadata": {},
   "outputs": [],
   "source": [
    "!pip install pywapor --quiet"
   ]
  },
  {
   "attachments": {},
   "cell_type": "markdown",
   "metadata": {},
   "source": [
    "#### Custom levels and partially running ET_Look\n",
    "\n",
    "In exercise 2 we've made an overview of which products are used for each variable at the different WaPOR levels. However it is also possible to create your own \"custom\" levels, with custom combinations of products. \n",
    "\n",
    "Furthermore, `et_look` can also be run with only part of the input variables. If, for example, you are only interested in obtaining maps of the interception or reference ET, it is not necessary to prepare all the different inputs.\n",
    "\n",
    "> **Question**\n",
    ">\n",
    "> Which variables are needed to calculate interception?\n",
    ">\n",
    "> Hint 1: on the [pyWaPOR documentation](https://www.fao.org/aquastat/py-wapor/_etlook.html) page you can find an interactive visualisation of the ETLook model.\n",
    ">\n",
    "> Hint 2: On [another page over there](https://www.fao.org/aquastat/py-wapor/et_look_rsts/evapotranspiration.html), you can find the formula used to calculate the interception. "
   ]
  },
  {
   "attachments": {},
   "cell_type": "markdown",
   "metadata": {},
   "source": [
    "> **Question**\n",
    ">\n",
    "> Make a list of the input variables needed to calculate interception."
   ]
  },
  {
   "cell_type": "code",
   "execution_count": null,
   "metadata": {},
   "outputs": [],
   "source": [
    "# Make the list here.\n",
    "\n",
    "required_variables = []"
   ]
  },
  {
   "attachments": {},
   "cell_type": "markdown",
   "metadata": {},
   "source": [
    "Next, we'll import pywapor and define the standard arguments."
   ]
  },
  {
   "cell_type": "code",
   "execution_count": null,
   "metadata": {},
   "outputs": [],
   "source": [
    "import pywapor\n",
    "\n",
    "folder = r\"/Users/hmcoerver/Local/7_custom_level_interception\"\n",
    "timelim = [\"2021-08-11\", \"2021-08-21\"]\n",
    "lonlim = [68.5, 69.0]\n",
    "latlim = [25.5, 26.0]"
   ]
  },
  {
   "attachments": {},
   "cell_type": "markdown",
   "metadata": {},
   "source": [
    "We can request the dictionary that defines the products used at level-1 like we've done before."
   ]
  },
  {
   "cell_type": "code",
   "execution_count": null,
   "metadata": {},
   "outputs": [],
   "source": [
    "lvl1_info = pywapor.general.levels.pre_et_look_levels(\"level_1\")"
   ]
  },
  {
   "attachments": {},
   "cell_type": "markdown",
   "metadata": {},
   "source": [
    "And then filter out the variables we don't need in this notebook."
   ]
  },
  {
   "cell_type": "code",
   "execution_count": null,
   "metadata": {},
   "outputs": [],
   "source": [
    "selected_sources = {k: v for k, v in lvl1_info.items() if k in required_variables}"
   ]
  },
  {
   "attachments": {},
   "cell_type": "markdown",
   "metadata": {},
   "source": [
    "> **Question**\n",
    "> \n",
    "> * Which keys does `selected_sources` have?\n",
    "> \n",
    "> * Which keys do the nested dictionaries have?"
   ]
  },
  {
   "cell_type": "code",
   "execution_count": null,
   "metadata": {},
   "outputs": [],
   "source": [
    "# inspect selected_sources here."
   ]
  },
  {
   "attachments": {},
   "cell_type": "markdown",
   "metadata": {},
   "source": [
    "In `selected_sources` each variable (or key) has a dictionary that specifies how the variable needs to be constructed. We've already looked at `\"is_example\"`, `\"enhancers\"`, `\"composite_type\"`, `\"temporal_interp\"` and `\"spatial_interp\"` before. \n",
    "\n",
    "Now we'll take a closer look at the `\"products\"` key."
   ]
  },
  {
   "cell_type": "code",
   "execution_count": null,
   "metadata": {},
   "outputs": [],
   "source": [
    "original_products = selected_sources[\"ndvi\"][\"products\"]"
   ]
  },
  {
   "attachments": {},
   "cell_type": "markdown",
   "metadata": {},
   "source": [
    "> **Question**\n",
    ">\n",
    "> What is the datatype of `original_products`?\n",
    "> \n",
    "> And what is the datatype of the items inside `original_products`?"
   ]
  },
  {
   "cell_type": "code",
   "execution_count": null,
   "metadata": {},
   "outputs": [],
   "source": [
    "# inspect original_products here."
   ]
  },
  {
   "attachments": {},
   "cell_type": "markdown",
   "metadata": {},
   "source": [
    "Instead of using these default items, we can also create our own list of products from which we want to construct the NDVI."
   ]
  },
  {
   "cell_type": "code",
   "execution_count": null,
   "metadata": {},
   "outputs": [],
   "source": [
    "product1 = {\n",
    "    \"source\": \"LANDSAT\",\n",
    "    \"product_name\": \"LC08_SR\",\n",
    "    \"enhancers\": \"default\",\n",
    "}\n",
    "\n",
    "product2 = {\n",
    "    \"source\": \"LANDSAT\",\n",
    "    \"product_name\": \"LC09_SR\",\n",
    "    \"enhancers\": \"default\",\n",
    "}\n",
    "\n",
    "product3 = {\n",
    "    \"source\": \"MODIS\",\n",
    "    \"product_name\": \"MYD13Q1.061\",\n",
    "    \"enhancers\": \"default\",\n",
    "}\n",
    "\n",
    "new_products_list = [product1, product2, product3]"
   ]
  },
  {
   "attachments": {},
   "cell_type": "markdown",
   "metadata": {},
   "source": [
    "> **Question**\n",
    ">\n",
    "> * What do you think will happen when we replace the original product list for ndvi with this new one?\n",
    ">\n",
    "> * Do you think the order of the items in the list matter?\n",
    ">\n",
    "> * Replace the value of the `\"products\"` key for `\"ndvi\"` inside the `selected_sources` dictionary with this new list."
   ]
  },
  {
   "cell_type": "code",
   "execution_count": null,
   "metadata": {},
   "outputs": [],
   "source": [
    "# Adjust the selected_sources dictionary here."
   ]
  },
  {
   "attachments": {},
   "cell_type": "markdown",
   "metadata": {},
   "source": [
    "> **Question**\n",
    ">\n",
    "> Run `pre_et_look` with for these `selected_sources`."
   ]
  },
  {
   "cell_type": "code",
   "execution_count": null,
   "metadata": {},
   "outputs": [],
   "source": [
    "# run pywapor.pre_et_look.main here."
   ]
  },
  {
   "attachments": {},
   "cell_type": "markdown",
   "metadata": {},
   "source": [
    "> **Question**\n",
    ">\n",
    "> * According to the logs, from with sources was the NDVI collected?\n",
    ">\n",
    "> * Create some plots to see if you can distinguish the different product sources."
   ]
  },
  {
   "cell_type": "code",
   "execution_count": null,
   "metadata": {},
   "outputs": [],
   "source": [
    "# Create plots here"
   ]
  },
  {
   "attachments": {},
   "cell_type": "markdown",
   "metadata": {},
   "source": [
    "Now that we have a dataset with NDVI and Precipitation, we can run `pywapor.et_look.main` and see what happens.\n",
    "\n",
    "> **Question**\n",
    ">\n",
    "> Run `et_look`."
   ]
  },
  {
   "cell_type": "code",
   "execution_count": null,
   "metadata": {},
   "outputs": [],
   "source": [
    "# Run pywapor.et_look.main here."
   ]
  },
  {
   "attachments": {},
   "cell_type": "markdown",
   "metadata": {},
   "source": [
    "> **Question**\n",
    "> \n",
    "> * According to the log, which variables have been calculated by `et_look`?\n",
    ">\n",
    "> * Create a plot of the interception, can you explain what you see?"
   ]
  },
  {
   "cell_type": "code",
   "execution_count": null,
   "metadata": {},
   "outputs": [],
   "source": [
    "# Create a plot here."
   ]
  },
  {
   "attachments": {},
   "cell_type": "markdown",
   "metadata": {},
   "source": [
    "#### Your turn\n",
    "\n",
    "> **Question**\n",
    ">\n",
    "> Can you make a `selected_sources` dictionary that creates ndvi and r0 maps from even more different sources combined?"
   ]
  }
 ],
 "metadata": {
  "kernelspec": {
   "display_name": "pywapor",
   "language": "python",
   "name": "python3"
  },
  "language_info": {
   "codemirror_mode": {
    "name": "ipython",
    "version": 3
   },
   "file_extension": ".py",
   "mimetype": "text/x-python",
   "name": "python",
   "nbconvert_exporter": "python",
   "pygments_lexer": "ipython3",
   "version": "3.10.6 | packaged by conda-forge | (main, Aug 22 2022, 20:41:22) [Clang 13.0.1 ]"
  },
  "orig_nbformat": 4,
  "vscode": {
   "interpreter": {
    "hash": "30267a9963ef4e891f35edf7c2db672f8b38daceac54cc246d7b09d3d93c63b2"
   }
  }
 },
 "nbformat": 4,
 "nbformat_minor": 2
}
